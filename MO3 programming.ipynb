{
 "cells": [
  {
   "cell_type": "code",
   "execution_count": null,
   "id": "a92656bd-1d31-4f6c-a937-8baf4c0c9dad",
   "metadata": {},
   "outputs": [],
   "source": [
    "# 7.4 Define the list\n",
    "things = [\"mozzarella\", \"cinderella\", \"salmonella\"]\n",
    "\n",
    "# Display the list\n",
    "things\n"
   ]
  },
  {
   "cell_type": "markdown",
   "id": "2255fa30-f73e-456a-961e-6342f1061ab3",
   "metadata": {},
   "source": [
    "In this step, we have created a list named `things` with the elements `\"mozzarella\"`, `\"cinderella\"`, and `\"salmonella\"`.\n"
   ]
  },
  {
   "cell_type": "code",
   "execution_count": null,
   "id": "8e142555-cfda-44df-9b54-e06ea95d5144",
   "metadata": {},
   "outputs": [],
   "source": [
    "# 7.5 Capitalize the element that refers to a person\n",
    "things[1] = things[1].capitalize()\n",
    "\n",
    "# Display the updated list\n",
    "things\n"
   ]
  },
  {
   "cell_type": "markdown",
   "id": "73e539fa-3c86-4f79-a91d-a3c316d0c550",
   "metadata": {},
   "source": [
    "In this step, we capitalized the element that refers to a person (which is `\"cinderella\"`, making it `\"Cinderella\"`). After this change, the list is updated to include `\"Cinderella\"` instead of `\"cinderella\"`.\n"
   ]
  },
  {
   "cell_type": "code",
   "execution_count": null,
   "id": "208aec45-ce65-4ad8-9d32-fa06f47112fb",
   "metadata": {},
   "outputs": [],
   "source": [
    "# 7.6 Make the cheesy element (mozzarella) uppercase\n",
    "things[0] = things[0].upper()\n",
    "\n",
    "# Display the updated list\n",
    "things\n"
   ]
  },
  {
   "cell_type": "markdown",
   "id": "f7b1bf4a-9467-42bc-a977-12ba74406cdc",
   "metadata": {},
   "source": [
    "In this step, we converted the cheesy element `\"mozzarella\"` to uppercase, resulting in `\"MOZZARELLA\"`. The updated list now shows this change.\n"
   ]
  },
  {
   "cell_type": "code",
   "execution_count": null,
   "id": "b6bb9c54-228f-499f-8325-5c9ada04f3ea",
   "metadata": {},
   "outputs": [],
   "source": [
    "# 7.7 Delete the disease element (salmonella)\n",
    "del things[1]  # \"salmonella\" is now at index 1\n",
    "\n",
    "# Display the updated list\n",
    "things\n"
   ]
  },
  {
   "cell_type": "markdown",
   "id": "f582fbcd-398d-48db-b607-a6aa263808f3",
   "metadata": {},
   "source": [
    "We deleted the element `\"salmonella\"` from the list. The updated list now contains only `\"MOZZARELLA\"` and `\"Cinderella\"`.\n"
   ]
  },
  {
   "cell_type": "code",
   "execution_count": null,
   "id": "e10f775e-4ce6-4266-872a-b2093ee05fc5",
   "metadata": {},
   "outputs": [],
   "source": [
    "# 9.1 Define the function\n",
    "def good():\n",
    "    return ['Harry', 'Ron', 'Hermione']\n",
    "\n",
    "# Call the function and display the result\n",
    "good()\n"
   ]
  },
  {
   "cell_type": "markdown",
   "id": "640237e0-7165-44ef-b9ef-1e3ed64fbb75",
   "metadata": {},
   "source": [
    "The function `good()` has been defined to return the list `['Harry', 'Ron', 'Hermione']`. Calling this function will produce this list as the output.\n"
   ]
  },
  {
   "cell_type": "code",
   "execution_count": null,
   "id": "48adbeef-e858-495c-82a2-e8992229ddfe",
   "metadata": {},
   "outputs": [],
   "source": [
    "# 9.2 Define the generator function\n",
    "def get_odds():\n",
    "    for number in range(10):\n",
    "        if number % 2 != 0:\n",
    "            yield number\n",
    "\n",
    "# Use a for loop to find and print the third value\n",
    "odd_gen = get_odds()\n",
    "third_value = None\n",
    "for i, value in enumerate(odd_gen):\n",
    "    if i == 2:\n",
    "        third_value = value\n",
    "        break\n",
    "\n",
    "# Display the third value\n",
    "third_value\n"
   ]
  },
  {
   "cell_type": "markdown",
   "id": "71c327a8-8d15-49e1-9a56-0e8743283e1b",
   "metadata": {},
   "source": [
    "The generator function `get_odds()` yields odd numbers from `range(10)`. By iterating through the generator, we found that the third value returned is `5`.\n"
   ]
  }
 ],
 "metadata": {
  "kernelspec": {
   "display_name": "Python 3 (ipykernel)",
   "language": "python",
   "name": "python3"
  },
  "language_info": {
   "codemirror_mode": {
    "name": "ipython",
    "version": 3
   },
   "file_extension": ".py",
   "mimetype": "text/x-python",
   "name": "python",
   "nbconvert_exporter": "python",
   "pygments_lexer": "ipython3",
   "version": "3.12.4"
  }
 },
 "nbformat": 4,
 "nbformat_minor": 5
}
